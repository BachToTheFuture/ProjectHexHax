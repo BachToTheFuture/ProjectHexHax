{
  "nbformat": 4,
  "nbformat_minor": 0,
  "metadata": {
    "colab": {
      "name": "BAYESIAN RIDGE MODEL",
      "provenance": [],
      "machine_shape": "hm"
    },
    "kernelspec": {
      "name": "python3",
      "display_name": "Python 3"
    },
    "accelerator": "GPU"
  },
  "cells": [
    {
      "cell_type": "code",
      "metadata": {
        "id": "AD_5wvkepAZU",
        "colab_type": "code",
        "colab": {}
      },
      "source": [
        "import keras\n",
        "import pandas as pd\n",
        "import csv\n",
        "import os\n",
        "from sklearn import linear_model\n",
        "import numpy as np\n",
        "import matplotlib.pyplot as plt\n",
        "from scipy import stats\n",
        "from joblib import dump, load"
      ],
      "execution_count": 0,
      "outputs": []
    },
    {
      "cell_type": "code",
      "metadata": {
        "id": "IOOiO2YKsaMt",
        "colab_type": "code",
        "colab": {}
      },
      "source": [
        "dir_path = '/content/drive/My Drive/NASA - Integrated Assessment/cov data/split/'\n",
        "header = ['iso_code','location','date','total_cases','new_cases','total_deaths','new_deaths','total_cases_per_million','new_cases_per_million','total_deaths_per_million','new_deaths_per_million','total_tests','new_tests','total_tests_per_thousand','new_tests_per_thousand','new_tests_smoothed','new_tests_smoothed_per_thousand','tests_units','stringency_index','population','population_density','median_age','aged_65_older','aged_70_older','gdp_per_capita','extreme_poverty','cvd_death_rate','diabetes_prevalence','female_smokers','male_smokers','handwashing_facilities','hospital_beds_per_100k']"
      ],
      "execution_count": 0,
      "outputs": []
    },
    {
      "cell_type": "code",
      "metadata": {
        "id": "QQAw7QRgQ1gm",
        "colab_type": "code",
        "colab": {}
      },
      "source": [
        "drop_vs = ['iso_code', 'total_cases', 'new_cases', 'total_deaths', 'new_deaths', 'total_tests','new_tests','new_tests_smoothed','new_tests_smoothed_per_thousand','tests_units','median_age','aged_70_older','cvd_death_rate','diabetes_prevalence','female_smokers','male_smokers','handwashing_facilities','extreme_poverty']\n",
        "single_vs = ['population_density','aged_65_older','gdp_per_capita','hospital_beds_per_100k']\n",
        "save_vs = ['location','population']\n",
        "check = ['total_cases_per_million','new_cases_per_million', 'total_deaths_per_million','new_deaths_per_million','total_tests_per_thousand','new_tests_per_thousand','stringency_index']  "
      ],
      "execution_count": 0,
      "outputs": []
    },
    {
      "cell_type": "code",
      "metadata": {
        "id": "5hc3iCsvPBd4",
        "colab_type": "code",
        "colab": {}
      },
      "source": [
        "gini_access = {}\n",
        "gf = open('/content/drive/My Drive/NASA - Integrated Assessment/cov data/combined_gini_access.csv', \"r\")\n",
        "reader = csv.reader(gf, delimiter=',')\n",
        "for ds in reader:\n",
        "  gini_access[ds[0].lower()] = [ds[1],ds[2]]\n",
        "defaults = {'population_density': 14.7, 'aged_65_older': 20, 'gdp_per_capita': 18381, 'hospital_beds_per_100k': 0, 'gini': 38, 'access': 442}"
      ],
      "execution_count": 0,
      "outputs": []
    },
    {
      "cell_type": "code",
      "metadata": {
        "id": "8JxkVUb8vpUr",
        "colab_type": "code",
        "colab": {}
      },
      "source": [
        "X = []\n",
        "tcpm = []\n",
        "ncpm = []\n",
        "tdpm = []\n",
        "ndpm = []\n",
        "ttpt = []\n",
        "ntpt = []\n",
        "stidx = []"
      ],
      "execution_count": 0,
      "outputs": []
    },
    {
      "cell_type": "code",
      "metadata": {
        "id": "hcatBS6a0CLG",
        "colab_type": "code",
        "outputId": "a48c5405-5f78-4b66-9d9e-ac5212bd7d84",
        "colab": {
          "base_uri": "https://localhost:8080/",
          "height": 1000
        }
      },
      "source": [
        "for filename in os.listdir(dir_path):\n",
        "  country_data = pd.read_csv(dir_path + filename, header = None)\n",
        "  country_data.columns = header\n",
        "\n",
        "  country_data = country_data.fillna(0)\n",
        "  single_use = {}\n",
        "  for s in single_vs:\n",
        "    single_use[s] = country_data[s][0]\n",
        "\n",
        "  save_data = {}\n",
        "  for s in save_vs:\n",
        "    save_data[s] = country_data[s][0]\n",
        "\n",
        "  drop = []\n",
        "  drop.extend(drop_vs)\n",
        "  drop.extend(single_vs)\n",
        "  drop.extend(save_vs)\n",
        "\n",
        "  country_data = country_data.drop(columns=drop)\n",
        "\n",
        "  n_samples = len(country_data.index)-1\n",
        "  for k in range(n_samples):\n",
        "    ap = []\n",
        "    for dat in check:\n",
        "      inpd = country_data[dat][k]\n",
        "      if inpd == 0:\n",
        "        inpd = 0.00001\n",
        "      ap.append(inpd)\n",
        "    for dat in single_vs:\n",
        "      if single_use[dat] != 0:\n",
        "        ap.append(single_use[dat])\n",
        "      else:\n",
        "        ap.append(defaults[dat])\n",
        "    ga = []\n",
        "    try:\n",
        "      ga = [float(gini_access[save_data['location'].lower()][0]), float(gini_access[save_data['location'].lower()][1])]\n",
        "    except:\n",
        "      ga = [float(defaults['gini']), float(defaults['access'])]\n",
        "    ap.extend(ga)\n",
        "    X.append(ap)\n",
        "\n",
        "  for k in range(1,n_samples+1):\n",
        "    tcpm.append(country_data['total_cases_per_million'][k])\n",
        "    ncpm.append(country_data['new_cases_per_million'][k])\n",
        "    tdpm.append(country_data['total_deaths_per_million'][k])\n",
        "    ndpm.append(country_data['new_deaths_per_million'][k])\n",
        "    ttpt.append(country_data['total_tests_per_thousand'][k])\n",
        "    ntpt.append(country_data['new_tests_per_thousand'][k])\n",
        "    stidx.append(country_data['stringency_index'][k])\n",
        "  print(save_data['location'])"
      ],
      "execution_count": 6,
      "outputs": [
        {
          "output_type": "stream",
          "text": [
            "Aruba\n",
            "Afghanistan\n",
            "Angola\n",
            "Anguilla\n",
            "Albania\n",
            "Andorra\n",
            "United Arab Emirates\n",
            "Argentina\n",
            "Armenia\n",
            "Antigua and Barbuda\n",
            "Australia\n",
            "Austria\n",
            "Azerbaijan\n",
            "Burundi\n",
            "Belgium\n",
            "Benin\n",
            "Bonaire Sint Eustatius and Saba\n",
            "Burkina Faso\n",
            "Bangladesh\n",
            "Bulgaria\n",
            "Bahrain\n",
            "Bahamas\n",
            "Bosnia and Herzegovina\n",
            "Belarus\n",
            "Belize\n",
            "Bolivia\n",
            "Brazil\n",
            "Barbados\n",
            "Brunei\n",
            "Bhutan\n",
            "Botswana\n",
            "Central African Republic\n",
            "Canada\n",
            "Switzerland\n",
            "Chile\n",
            "China\n",
            "Cote d'Ivoire\n",
            "Cameroon\n",
            "Democratic Republic of Congo\n",
            "Congo\n",
            "Colombia\n",
            "Comoros\n",
            "Cape Verde\n",
            "Costa Rica\n",
            "Cuba\n",
            "Curacao\n",
            "Cayman Islands\n",
            "Cyprus\n",
            "Czech Republic\n",
            "Germany\n",
            "Djibouti\n",
            "Dominica\n",
            "Denmark\n",
            "Dominican Republic\n",
            "Algeria\n",
            "Ecuador\n",
            "Egypt\n",
            "Eritrea\n",
            "Western Sahara\n",
            "Spain\n",
            "Estonia\n",
            "Ethiopia\n",
            "Finland\n",
            "Fiji\n",
            "Falkland Islands\n",
            "France\n",
            "Faeroe Islands\n",
            "Gabon\n",
            "United Kingdom\n",
            "Georgia\n",
            "Guernsey\n",
            "Ghana\n",
            "Gibraltar\n",
            "Guinea\n",
            "Gambia\n",
            "Guinea-Bissau\n",
            "Equatorial Guinea\n",
            "Greece\n",
            "Grenada\n",
            "Greenland\n",
            "Guatemala\n",
            "Guam\n",
            "Guyana\n",
            "Hong Kong\n",
            "Honduras\n",
            "Croatia\n",
            "Haiti\n",
            "Hungary\n",
            "Indonesia\n",
            "Isle of Man\n",
            "India\n",
            "Ireland\n",
            "Iran\n",
            "Iraq\n",
            "Iceland\n",
            "Israel\n",
            "Italy\n",
            "Jamaica\n",
            "Jersey\n",
            "Jordan\n",
            "Japan\n",
            "Kazakhstan\n",
            "Kenya\n",
            "Kyrgyzstan\n",
            "Cambodia\n",
            "Saint Kitts and Nevis\n",
            "South Korea\n",
            "Kuwait\n",
            "Laos\n",
            "Lebanon\n",
            "Liberia\n",
            "Libya\n",
            "Saint Lucia\n",
            "Liechtenstein\n",
            "Sri Lanka\n",
            "Lesotho\n",
            "Lithuania\n",
            "Luxembourg\n",
            "Latvia\n",
            "Morocco\n",
            "Monaco\n",
            "Moldova\n",
            "Madagascar\n",
            "Maldives\n",
            "Mexico\n",
            "Macedonia\n",
            "Mali\n",
            "Malta\n",
            "Myanmar\n",
            "Montenegro\n",
            "Mongolia\n",
            "Northern Mariana Islands\n",
            "Mozambique\n",
            "Mauritania\n",
            "Montserrat\n",
            "Mauritius\n",
            "Malawi\n",
            "Malaysia\n",
            "Namibia\n",
            "New Caledonia\n",
            "Niger\n",
            "Nigeria\n",
            "Nicaragua\n",
            "Netherlands\n",
            "Norway\n",
            "Nepal\n",
            "New Zealand\n",
            "Oman\n",
            "Pakistan\n",
            "Panama\n",
            "Peru\n",
            "Philippines\n",
            "Papua New Guinea\n",
            "Poland\n",
            "Puerto Rico\n",
            "Portugal\n",
            "Paraguay\n",
            "Palestine\n",
            "French Polynesia\n",
            "Qatar\n",
            "Romania\n",
            "Russia\n",
            "Rwanda\n",
            "Saudi Arabia\n",
            "Sudan\n",
            "Senegal\n",
            "Singapore\n",
            "Sierra Leone\n",
            "El Salvador\n",
            "San Marino\n",
            "Somalia\n",
            "Serbia\n",
            "South Sudan\n",
            "Sao Tome and Principe\n",
            "Suriname\n",
            "Slovakia\n",
            "Slovenia\n",
            "Sweden\n",
            "Swaziland\n",
            "Sint Maarten (Dutch part)\n",
            "Seychelles\n",
            "Syria\n",
            "Turks and Caicos Islands\n",
            "Chad\n",
            "Togo\n",
            "Thailand\n",
            "Tajikistan\n",
            "Timor\n",
            "Trinidad and Tobago\n",
            "Tunisia\n",
            "Turkey\n",
            "Taiwan\n",
            "Tanzania\n",
            "Uganda\n",
            "Ukraine\n",
            "Uruguay\n",
            "United States\n",
            "Uzbekistan\n",
            "Vatican\n",
            "Saint Vincent and the Grenadines\n",
            "Venezuela\n",
            "British Virgin Islands\n",
            "United States Virgin Islands\n",
            "Vietnam\n",
            "Kosovo\n",
            "Yemen\n",
            "South Africa\n",
            "Zambia\n",
            "Zimbabwe\n",
            "Bermuda\n"
          ],
          "name": "stdout"
        }
      ]
    },
    {
      "cell_type": "code",
      "metadata": {
        "id": "7LE9YyDqF_8k",
        "colab_type": "code",
        "outputId": "b242956e-56b8-4df7-c2a7-5ab85aa5db15",
        "colab": {
          "base_uri": "https://localhost:8080/",
          "height": 34
        }
      },
      "source": [
        "reg_tcpm = linear_model.BayesianRidge() \n",
        "reg_ncpm = linear_model.BayesianRidge() \n",
        "reg_tdpm = linear_model.BayesianRidge()\n",
        "reg_ndpm = linear_model.BayesianRidge() \n",
        "reg_ttpt = linear_model.BayesianRidge() \n",
        "reg_ntpt = linear_model.BayesianRidge() \n",
        "reg_stidx = linear_model.BayesianRidge() \n",
        "\n",
        "reg_tcpm.fit(X,tcpm)\n",
        "reg_ncpm.fit(X,ncpm)\n",
        "reg_tdpm.fit(X,tdpm)\n",
        "reg_ndpm.fit(X,ndpm)\n",
        "reg_ttpt.fit(X,ttpt)\n",
        "reg_ntpt.fit(X,ntpt)\n",
        "reg_stidx.fit(X,stidx)\n",
        "\n",
        "save_path = '/content/drive/My Drive/NASA - Integrated Assessment/cov data/bayesian regression models/'\n",
        "dump(reg_tcpm, save_path + \"tcpm.joblib\")\n",
        "dump(reg_ncpm, save_path + \"ncpm.joblib\")\n",
        "dump(reg_tdpm, save_path + \"tdpm.joblib\")\n",
        "dump(reg_ndpm, save_path + \"ndpm.joblib\")\n",
        "dump(reg_ttpt, save_path + \"ttpt.joblib\")\n",
        "dump(reg_ntpt, save_path + \"ntpt.joblib\")\n",
        "dump(reg_stidx, save_path + \"stidx.joblib\")"
      ],
      "execution_count": 10,
      "outputs": [
        {
          "output_type": "execute_result",
          "data": {
            "text/plain": [
              "['/content/drive/My Drive/NASA - Integrated Assessment/cov data/bayesian regression models/stidx.joblib']"
            ]
          },
          "metadata": {
            "tags": []
          },
          "execution_count": 10
        }
      ]
    },
    {
      "cell_type": "code",
      "metadata": {
        "id": "OUEyV-vMJhHm",
        "colab_type": "code",
        "outputId": "7d337ddf-d38c-4337-df37-2e51ed7c57d3",
        "colab": {
          "base_uri": "https://localhost:8080/",
          "height": 34
        }
      },
      "source": [
        "'''\n",
        "X = []  \n",
        "for k in range(n_samples,n_samples+1):\n",
        "  ap = []\n",
        "  for dat in check:\n",
        "    inpd = country_data[dat][k]\n",
        "    ap.append(inpd)\n",
        "  for dat in sud:\n",
        "    if single_use[dat] != 0:\n",
        "      ap.append(single_use[dat])\n",
        "    else:\n",
        "      ap.append(default[dat])\n",
        "  ga = []\n",
        "  try:\n",
        "    ga = [float(gini_access[save_data['location'].lower()][0]), float(gini_access[save_data['location'].lower()][1])]\n",
        "  except:\n",
        "    ga = [float(default['gini']), float(default['access'])]\n",
        "  ap.extend(ga)\n",
        "  X.append(ap)\n",
        "print(X)\n",
        "'''\n",
        "x = [[0,0,0,0,0,0,0,0,0,0,0,0,0]]\n",
        "reg.predict(x)"
      ],
      "execution_count": 8,
      "outputs": [
        {
          "output_type": "execute_result",
          "data": {
            "text/plain": [
              "array([-1.92192344])"
            ]
          },
          "metadata": {
            "tags": []
          },
          "execution_count": 8
        }
      ]
    },
    {
      "cell_type": "code",
      "metadata": {
        "id": "ZHRODq8RLUzg",
        "colab_type": "code",
        "outputId": "607cec95-3572-4336-f80e-229e7b187d46",
        "colab": {
          "base_uri": "https://localhost:8080/",
          "height": 85
        }
      },
      "source": [
        "reg.coef_"
      ],
      "execution_count": 9,
      "outputs": [
        {
          "output_type": "execute_result",
          "data": {
            "text/plain": [
              "array([ 1.25816581e-02,  2.08440595e-01, -7.06310368e-02,  1.60516597e+00,\n",
              "       -5.09604786e-01,  2.20607035e+01,  6.01874540e-02,  1.78305552e-04,\n",
              "       -1.88581162e-01,  2.69699609e-04, -3.38033210e-01,  5.83381073e-03,\n",
              "       -2.74617727e-04])"
            ]
          },
          "metadata": {
            "tags": []
          },
          "execution_count": 9
        }
      ]
    },
    {
      "cell_type": "code",
      "metadata": {
        "id": "7y0OmM-NT_7m",
        "colab_type": "code",
        "colab": {}
      },
      "source": [
        ""
      ],
      "execution_count": 0,
      "outputs": []
    },
    {
      "cell_type": "code",
      "metadata": {
        "id": "H3eMrPNlaIaW",
        "colab_type": "code",
        "colab": {
          "base_uri": "https://localhost:8080/",
          "height": 34
        },
        "outputId": "2500d8b2-fa8a-4b40-f8e9-e1b51e8aed7a"
      },
      "source": [
        "#https://scikit-learn.org/stable/modules/model_persistence.html\n",
        "dump(reg, '/content/drive/My Drive/NASA - Integrated Assessment/cov data/MODEL.joblib') "
      ],
      "execution_count": 13,
      "outputs": [
        {
          "output_type": "execute_result",
          "data": {
            "text/plain": [
              "['/content/drive/My Drive/NASA - Integrated Assessment/cov data/MODEL.joblib']"
            ]
          },
          "metadata": {
            "tags": []
          },
          "execution_count": 13
        }
      ]
    },
    {
      "cell_type": "code",
      "metadata": {
        "id": "BMjM_mWwaQJJ",
        "colab_type": "code",
        "colab": {}
      },
      "source": [
        ""
      ],
      "execution_count": 0,
      "outputs": []
    }
  ]
}