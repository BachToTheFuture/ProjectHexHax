{
  "nbformat": 4,
  "nbformat_minor": 0,
  "metadata": {
    "colab": {
      "name": "ML",
      "provenance": [],
      "machine_shape": "hm"
    },
    "kernelspec": {
      "name": "python3",
      "display_name": "Python 3"
    },
    "accelerator": "GPU"
  },
  "cells": [
    {
      "cell_type": "code",
      "metadata": {
        "id": "AD_5wvkepAZU",
        "colab_type": "code",
        "colab": {}
      },
      "source": [
        "import keras\n",
        "import pandas as pd\n",
        "import csv\n",
        "import os\n",
        "import sklearn\n",
        "import numpy as np\n",
        "import matplotlib.pyplot as plt\n",
        "from scipy import stats\n",
        "from sklearn.linear_model import BayesianRidge, LinearRegression"
      ],
      "execution_count": 0,
      "outputs": []
    },
    {
      "cell_type": "code",
      "metadata": {
        "id": "IOOiO2YKsaMt",
        "colab_type": "code",
        "colab": {}
      },
      "source": [
        "dir_path = '/content/drive/My Drive/NASA - Integrated Assessment/cov data/split/'\n",
        "header = ['iso_code','location','date','total_cases','new_cases','total_deaths','new_deaths','total_cases_per_million','new_cases_per_million','total_deaths_per_million','new_deaths_per_million','total_tests','new_tests','total_tests_per_thousand','new_tests_per_thousand','new_tests_smoothed','new_tests_smoothed_per_thousand','tests_units','stringency_index','population','population_density','median_age','aged_65_older','aged_70_older','gdp_per_capita','extreme_poverty','cvd_death_rate','diabetes_prevalence','female_smokers','male_smokers','handwashing_facilities','hospital_beds_per_100k']\n",
        "\n",
        "#os.listdir(dir_path)"
      ],
      "execution_count": 0,
      "outputs": []
    },
    {
      "cell_type": "code",
      "metadata": {
        "id": "QQAw7QRgQ1gm",
        "colab_type": "code",
        "colab": {}
      },
      "source": [
        "drop_vs = ['iso_code', 'total_cases', 'new_cases', 'total_deaths', 'new_deaths', 'total_tests','new_tests','new_tests_smoothed','new_tests_smoothed_per_thousand','tests_units','median_age','aged_70_older','cvd_death_rate','diabetes_prevalence','female_smokers','male_smokers','handwashing_facilities','extreme_poverty']\n",
        "single_vs = ['population_density','aged_65_older','gdp_per_capita','hospital_beds_per_100k']\n",
        "save_vs = ['location','population']\n",
        "check = ['total_cases_per_million','new_cases_per_million', 'total_deaths_per_million','new_deaths_per_million','total_tests_per_thousand','new_tests_per_thousand','stringency_index']  "
      ],
      "execution_count": 0,
      "outputs": []
    },
    {
      "cell_type": "code",
      "metadata": {
        "id": "5hc3iCsvPBd4",
        "colab_type": "code",
        "colab": {}
      },
      "source": [
        "gini_access = {}\n",
        "gf = open('/content/drive/My Drive/NASA - Integrated Assessment/cov data/combined_gini_access.csv', \"r\")\n",
        "reader = csv.reader(gf, delimiter=',')\n",
        "for ds in reader:\n",
        "  gini_access[ds[0].lower()] = [ds[1],ds[2]]\n",
        "\n",
        "defaults = {'population_density': 14.7, 'aged_65_older': 20, 'gdp_per_capita': 18381, 'hospital_beds_per_100k': 0, 'gini': 38, 'access': 442}"
      ],
      "execution_count": 0,
      "outputs": []
    },
    {
      "cell_type": "code",
      "metadata": {
        "id": "BTVt9yvDsJSt",
        "colab_type": "code",
        "colab": {}
      },
      "source": [
        "country_data = pd.read_csv(dir_path+\"Italy.csv\", header = None)\n",
        "country_data.columns = header"
      ],
      "execution_count": 0,
      "outputs": []
    },
    {
      "cell_type": "code",
      "metadata": {
        "id": "hcatBS6a0CLG",
        "colab_type": "code",
        "outputId": "38589ee5-01d3-47e1-fcc3-9dca48affd37",
        "colab": {
          "base_uri": "https://localhost:8080/",
          "height": 54
        }
      },
      "source": [
        "single_use = {}\n",
        "for s in single_vs:\n",
        "  single_use[s] = country_data[s][0]\n",
        "\n",
        "save_data = {}\n",
        "for s in save_vs:\n",
        "  save_data[s] = country_data[s][0]\n",
        "\n",
        "drop = []\n",
        "drop.extend(drop_vs)\n",
        "drop.extend(single_vs)\n",
        "drop.extend(save_vs)\n",
        "print(drop)\n",
        "\n",
        "country_data = country_data.drop(columns=drop)\n",
        "country_data = country_data.fillna(0)"
      ],
      "execution_count": 0,
      "outputs": [
        {
          "output_type": "stream",
          "text": [
            "['iso_code', 'total_cases', 'new_cases', 'total_deaths', 'new_deaths', 'total_tests', 'new_tests', 'new_tests_smoothed', 'new_tests_smoothed_per_thousand', 'tests_units', 'median_age', 'aged_70_older', 'cvd_death_rate', 'diabetes_prevalence', 'female_smokers', 'male_smokers', 'handwashing_facilities', 'extreme_poverty', 'population_density', 'aged_65_older', 'gdp_per_capita', 'hospital_beds_per_100k', 'location', 'population']\n"
          ],
          "name": "stdout"
        }
      ]
    },
    {
      "cell_type": "code",
      "metadata": {
        "id": "7LE9YyDqF_8k",
        "colab_type": "code",
        "outputId": "837a869f-c592-4e44-83e5-98400ee3a618",
        "colab": {
          "base_uri": "https://localhost:8080/",
          "height": 85
        }
      },
      "source": [
        "from sklearn import linear_model\n",
        "n_samples = len(country_data.index)-1\n",
        "\n",
        "X = []  \n",
        "for k in range(n_samples):\n",
        "  ap = []\n",
        "  for dat in check:\n",
        "    inpd = country_data[dat][k]\n",
        "    if inpd == 0:\n",
        "      inpd = 0.00001\n",
        "    ap.append(inpd)\n",
        "  for dat in sud:\n",
        "    if single_use[dat] != 0:\n",
        "      ap.append(single_use[dat])\n",
        "    else:\n",
        "      ap.append(default[dat])\n",
        "  ga = []\n",
        "  try:\n",
        "    ga = [float(gini_access[save_data['location'].lower()][0]), float(gini_access[save_data['location'].lower()][1])]\n",
        "  except:\n",
        "    ga = [float(default['gini']), float(default['access'])]\n",
        "  ap.extend(ga)\n",
        "  X.append(ap)\n",
        "\n",
        "Y = []\n",
        "for k in range(1,n_samples+1):\n",
        "  Y.append(country_data['new_cases_per_million'][k])\n",
        "\n",
        "reg = linear_model.BayesianRidge()\n",
        "\n",
        "reg.fit(X, Y)"
      ],
      "execution_count": 0,
      "outputs": [
        {
          "output_type": "execute_result",
          "data": {
            "text/plain": [
              "BayesianRidge(alpha_1=1e-06, alpha_2=1e-06, alpha_init=None,\n",
              "              compute_score=False, copy_X=True, fit_intercept=True,\n",
              "              lambda_1=1e-06, lambda_2=1e-06, lambda_init=None, n_iter=300,\n",
              "              normalize=False, tol=0.001, verbose=False)"
            ]
          },
          "metadata": {
            "tags": []
          },
          "execution_count": 55
        }
      ]
    },
    {
      "cell_type": "code",
      "metadata": {
        "id": "OUEyV-vMJhHm",
        "colab_type": "code",
        "outputId": "e51aad79-7111-4025-b447-b89b727be635",
        "colab": {
          "base_uri": "https://localhost:8080/",
          "height": 71
        }
      },
      "source": [
        "X = []  \n",
        "for k in range(n_samples,n_samples+1):\n",
        "  ap = []\n",
        "  for dat in check:\n",
        "    inpd = country_data[dat][k]\n",
        "    if inpd == 0:\n",
        "      inpd = 0.00001\n",
        "    ap.append(inpd)\n",
        "  for dat in sud:\n",
        "    if single_use[dat] != 0:\n",
        "      ap.append(single_use[dat])\n",
        "    else:\n",
        "      ap.append(default[dat])\n",
        "  ga = []\n",
        "  try:\n",
        "    ga = [float(gini_access[save_data['location'].lower()][0]), float(gini_access[save_data['location'].lower()][1])]\n",
        "  except:\n",
        "    ga = [float(default['gini']), float(default['access'])]\n",
        "  ap.extend(ga)\n",
        "  X.append(ap)\n",
        "print(X)\n",
        "reg.predict(X)"
      ],
      "execution_count": 0,
      "outputs": [
        {
          "output_type": "stream",
          "text": [
            "[[3841.2340000000004, 8.533999999999999, 549.586, 1.439, 63.257, 1.147, 71.3, 205.859, 23.021, 35220.084, 3.18, 31.9, 23.33100874]]\n"
          ],
          "name": "stdout"
        },
        {
          "output_type": "execute_result",
          "data": {
            "text/plain": [
              "array([10.07013277])"
            ]
          },
          "metadata": {
            "tags": []
          },
          "execution_count": 61
        }
      ]
    },
    {
      "cell_type": "code",
      "metadata": {
        "id": "ZHRODq8RLUzg",
        "colab_type": "code",
        "outputId": "2e9b1483-f592-4b95-907f-087c817e50c8",
        "colab": {
          "base_uri": "https://localhost:8080/",
          "height": 85
        }
      },
      "source": [
        "reg.coef_"
      ],
      "execution_count": 0,
      "outputs": [
        {
          "output_type": "execute_result",
          "data": {
            "text/plain": [
              "array([ 8.56431117e-02,  5.66626458e-01, -6.57467641e-01,  6.96146639e-01,\n",
              "        5.02590910e-01,  3.98439349e-01,  6.92396107e-02,  7.02798859e-27,\n",
              "        1.38624616e-27, -2.56410553e-24,  1.40933819e-28,  0.00000000e+00,\n",
              "        3.39732889e-28])"
            ]
          },
          "metadata": {
            "tags": []
          },
          "execution_count": 59
        }
      ]
    },
    {
      "cell_type": "code",
      "metadata": {
        "id": "7y0OmM-NT_7m",
        "colab_type": "code",
        "colab": {}
      },
      "source": [
        ""
      ],
      "execution_count": 0,
      "outputs": []
    }
  ]
}